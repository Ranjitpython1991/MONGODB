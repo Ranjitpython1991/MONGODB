{
 "cells": [
  {
   "cell_type": "code",
   "execution_count": null,
   "id": "97f9bf28",
   "metadata": {},
   "outputs": [],
   "source": []
  },
  {
   "cell_type": "code",
   "execution_count": 86,
   "id": "27b22c82",
   "metadata": {},
   "outputs": [],
   "source": [
    "from pymongo import MongoClient\n",
    "client = MongoClient('localhost',27017)  # 27017 is the default port number for mongodb"
   ]
  },
  {
   "cell_type": "code",
   "execution_count": 87,
   "id": "09c3aa9f",
   "metadata": {},
   "outputs": [],
   "source": [
    "# create test database "
   ]
  },
  {
   "cell_type": "code",
   "execution_count": 88,
   "id": "4b633e92",
   "metadata": {},
   "outputs": [],
   "source": [
    "db = client.test"
   ]
  },
  {
   "cell_type": "markdown",
   "id": "b89e1511",
   "metadata": {},
   "source": [
    "# INSERT RECORDS INTO DATABASE"
   ]
  },
  {
   "cell_type": "code",
   "execution_count": null,
   "id": "283e7cec",
   "metadata": {},
   "outputs": [],
   "source": []
  },
  {
   "cell_type": "raw",
   "id": "5efd264a",
   "metadata": {},
   "source": [
    "#There are two ways you can add documents to a MongoDB collection.\n",
    "\n",
    "#db.collection.insert_one()\n",
    "#db.collection.insert_many()\n",
    "\n"
   ]
  },
  {
   "cell_type": "code",
   "execution_count": 89,
   "id": "374fcee0",
   "metadata": {},
   "outputs": [
    {
     "data": {
      "text/plain": [
       "<pymongo.results.InsertOneResult at 0x1fdb04cf400>"
      ]
     },
     "execution_count": 89,
     "metadata": {},
     "output_type": "execute_result"
    }
   ],
   "source": [
    "db.SalesDB.insert_one({\n",
    "    'name': \"Linda\",\n",
    "    'orderdate': \"6/10/2021\",\n",
    "    'species': \"Dog\",\n",
    "    'ownerAddress': \"380 W. Fir Ave\",\n",
    "    'chipped': True\n",
    "})"
   ]
  },
  {
   "cell_type": "code",
   "execution_count": null,
   "id": "57002c1e",
   "metadata": {},
   "outputs": [],
   "source": []
  },
  {
   "cell_type": "code",
   "execution_count": 99,
   "id": "664ddb96",
   "metadata": {},
   "outputs": [],
   "source": [
    "data=[{\"name\" : \"Kitana\", \"orderdate\" : \"6/10/2021\", \"species\" : \"Cat\", \"ownerAddress\" : \"521 E. Cortland\", \"chipped\" : 'true' },\n",
    "{\"name\" : \"Marsh\", \"orderdate\" : \"6/10/2021\", \"species\" : \"Dog\", \"ownerAddress\" : \"380 W. Fir Ave\", \"chipped\" : 'true' },\n",
    "{\"name\" : \"Loo\", \"orderdate\" : \"7/10/2021\", \"species\" : \"Dog\", \"ownerAddress\" : \"380 W. Fir Ave\", \"chipped\" : 'true' },\n",
    "{\"name\" : \"Kevin\", \"orderdate\" : \"8/10/2021\", \"species\" : \"Dog\", \"ownerAddress\" : \"900 W. Wood Way\", \"chipped\" : 'true' }]"
   ]
  },
  {
   "cell_type": "code",
   "execution_count": 100,
   "id": "91df50b2",
   "metadata": {},
   "outputs": [
    {
     "name": "stdout",
     "output_type": "stream",
     "text": [
      "# of documents inserted: 4\n",
      "_ids of inserted documents: [ObjectId('63948ab5bd4ffa5ab59fd970'), ObjectId('63948ab5bd4ffa5ab59fd971'), ObjectId('63948ab5bd4ffa5ab59fd972'), ObjectId('63948ab5bd4ffa5ab59fd973')]\n"
     ]
    }
   ],
   "source": [
    "result=db.SalesDB.insert_many(data)\n",
    "document_ids = result.inserted_ids\n",
    "print(\"# of documents inserted: \" + str(len(document_ids)))\n",
    "print(f\"_ids of inserted documents: {document_ids}\")"
   ]
  },
  {
   "cell_type": "markdown",
   "id": "9ebb9184",
   "metadata": {},
   "source": [
    "# Read data from database¶"
   ]
  },
  {
   "cell_type": "raw",
   "id": "305df5f2",
   "metadata": {},
   "source": [
    "# two ways to read documents from a collection in MongoDB:\n",
    "\n",
    "# db.collection.find()\n",
    "# db.collection.find_one()"
   ]
  },
  {
   "cell_type": "markdown",
   "id": "871a44a0",
   "metadata": {},
   "source": [
    "#    # syntax of the function is as follows \n",
    "    db.{collection}.find_one({query}, {projection})"
   ]
  },
  {
   "cell_type": "code",
   "execution_count": 101,
   "id": "106ad619",
   "metadata": {},
   "outputs": [],
   "source": [
    "query={\"orderdate\":\"8/10/2021\"}"
   ]
  },
  {
   "cell_type": "code",
   "execution_count": 102,
   "id": "efd303bf",
   "metadata": {},
   "outputs": [
    {
     "data": {
      "text/plain": [
       "{'_id': ObjectId('63948ab5bd4ffa5ab59fd973'),\n",
       " 'name': 'Kevin',\n",
       " 'orderdate': '8/10/2021',\n",
       " 'species': 'Dog',\n",
       " 'ownerAddress': '900 W. Wood Way',\n",
       " 'chipped': 'true'}"
      ]
     },
     "execution_count": 102,
     "metadata": {},
     "output_type": "execute_result"
    }
   ],
   "source": [
    "db.SalesDB.find_one({\"orderdate\":\"8/10/2021\"})"
   ]
  },
  {
   "cell_type": "code",
   "execution_count": 103,
   "id": "4e144950",
   "metadata": {},
   "outputs": [
    {
     "data": {
      "text/plain": [
       "{'_id': ObjectId('63948ab5bd4ffa5ab59fd973'),\n",
       " 'name': 'Kevin',\n",
       " 'orderdate': '8/10/2021',\n",
       " 'species': 'Dog',\n",
       " 'ownerAddress': '900 W. Wood Way',\n",
       " 'chipped': 'true'}"
      ]
     },
     "execution_count": 103,
     "metadata": {},
     "output_type": "execute_result"
    }
   ],
   "source": [
    "db.SalesDB.find_one(query)"
   ]
  },
  {
   "cell_type": "code",
   "execution_count": 104,
   "id": "80c1da3d",
   "metadata": {},
   "outputs": [
    {
     "name": "stdout",
     "output_type": "stream",
     "text": [
      "{'_id': ObjectId('63948ab5bd4ffa5ab59fd971'), 'name': 'Marsh', 'orderdate': '6/10/2021', 'species': 'Dog', 'ownerAddress': '380 W. Fir Ave', 'chipped': 'true'}\n",
      "\n",
      "{'_id': ObjectId('63948ab5bd4ffa5ab59fd972'), 'name': 'Loo', 'orderdate': '7/10/2021', 'species': 'Dog', 'ownerAddress': '380 W. Fir Ave', 'chipped': 'true'}\n",
      "\n",
      "{'_id': ObjectId('63948ab5bd4ffa5ab59fd973'), 'name': 'Kevin', 'orderdate': '8/10/2021', 'species': 'Dog', 'ownerAddress': '900 W. Wood Way', 'chipped': 'true'}\n",
      "\n",
      "# of documents found: 3\n"
     ]
    }
   ],
   "source": [
    "documents_to_find ={'species':\"Dog\"}\n",
    "\n",
    "# Write an expression that selects the documents matching the query constraint in the 'accounts' collection.\n",
    "cursor = db.SalesDB.find(documents_to_find)\n",
    "\n",
    "num_docs = 0\n",
    "for document in cursor:\n",
    "    num_docs += 1\n",
    "    print(document)\n",
    "    print()\n",
    "print(\"# of documents found: \" + str(num_docs))"
   ]
  },
  {
   "cell_type": "markdown",
   "id": "efb7f5cc",
   "metadata": {},
   "source": [
    "# Update Operation"
   ]
  },
  {
   "cell_type": "raw",
   "id": "fe8099c8",
   "metadata": {},
   "source": [
    "#MongoDB CRUD allows users to update documents in three different ways:\n",
    "\n",
    "#db.collection.update_one()\n",
    "#db.collection.update_many()\n",
    "#db.collection.replace_one()"
   ]
  },
  {
   "cell_type": "code",
   "execution_count": 105,
   "id": "dbb9df5b",
   "metadata": {},
   "outputs": [],
   "source": [
    "records={'name': \"Marsh\"}\n",
    "data={'ownerAddress': \"451 W. Coffee St. A204\"}"
   ]
  },
  {
   "cell_type": "code",
   "execution_count": null,
   "id": "d32c0905",
   "metadata": {},
   "outputs": [],
   "source": []
  },
  {
   "cell_type": "code",
   "execution_count": 106,
   "id": "55771234",
   "metadata": {},
   "outputs": [],
   "source": [
    "result=db.SalesDB.update_one(records, {'$set':data})"
   ]
  },
  {
   "cell_type": "code",
   "execution_count": 107,
   "id": "9737a64b",
   "metadata": {},
   "outputs": [
    {
     "data": {
      "text/plain": [
       "<pymongo.results.UpdateResult at 0x1fdb093fd30>"
      ]
     },
     "execution_count": 107,
     "metadata": {},
     "output_type": "execute_result"
    }
   ],
   "source": [
    "result"
   ]
  },
  {
   "cell_type": "code",
   "execution_count": 68,
   "id": "e6044516",
   "metadata": {},
   "outputs": [],
   "source": [
    "# update and new data with specific records"
   ]
  },
  {
   "cell_type": "code",
   "execution_count": 108,
   "id": "6fb48cc5",
   "metadata": {},
   "outputs": [],
   "source": [
    "records={'species':\"Dog\"}\n",
    "data= {'age': \"5\"}"
   ]
  },
  {
   "cell_type": "code",
   "execution_count": 109,
   "id": "ed36e462",
   "metadata": {},
   "outputs": [
    {
     "data": {
      "text/plain": [
       "<pymongo.results.UpdateResult at 0x1fdb04cf8b0>"
      ]
     },
     "execution_count": 109,
     "metadata": {},
     "output_type": "execute_result"
    }
   ],
   "source": [
    "db.SalesDB.update_many(records, {'$set': data})"
   ]
  },
  {
   "cell_type": "code",
   "execution_count": null,
   "id": "7762dda3",
   "metadata": {},
   "outputs": [],
   "source": []
  },
  {
   "cell_type": "markdown",
   "id": "1af191d4",
   "metadata": {},
   "source": [
    "# replace records"
   ]
  },
  {
   "cell_type": "raw",
   "id": "112b74c1",
   "metadata": {},
   "source": [
    "# The replace_one() method replaces a single document in a collection"
   ]
  },
  {
   "cell_type": "code",
   "execution_count": null,
   "id": "f024d905",
   "metadata": {},
   "outputs": [],
   "source": []
  },
  {
   "cell_type": "code",
   "execution_count": 114,
   "id": "3492cc84",
   "metadata": {},
   "outputs": [],
   "source": [
    "records={'name': \"Kevin\"}\n",
    "data= {'name': \"Maki\"}"
   ]
  },
  {
   "cell_type": "code",
   "execution_count": 115,
   "id": "e8e32949",
   "metadata": {},
   "outputs": [
    {
     "data": {
      "text/plain": [
       "<pymongo.results.UpdateResult at 0x1fdb0829190>"
      ]
     },
     "execution_count": 115,
     "metadata": {},
     "output_type": "execute_result"
    }
   ],
   "source": [
    "db.SalesDB.replace_one(records, data)"
   ]
  },
  {
   "cell_type": "code",
   "execution_count": 116,
   "id": "9a5e42ff",
   "metadata": {},
   "outputs": [
    {
     "data": {
      "text/plain": [
       "<pymongo.cursor.Cursor at 0x1fdb0c85eb0>"
      ]
     },
     "execution_count": 116,
     "metadata": {},
     "output_type": "execute_result"
    }
   ],
   "source": [
    "db.SalesDB.find({'_id':'0x1fdb04cf7c0>'})"
   ]
  },
  {
   "cell_type": "code",
   "execution_count": null,
   "id": "d3061a96",
   "metadata": {},
   "outputs": [],
   "source": []
  },
  {
   "cell_type": "markdown",
   "id": "db8bb129",
   "metadata": {},
   "source": [
    "# Delete Operation"
   ]
  },
  {
   "cell_type": "raw",
   "id": "a67d4a36",
   "metadata": {},
   "source": [
    "# There are two ways to delete records from a collection in MongoDB:\n",
    "\n",
    "# db.collection.delete_one()\n",
    "# db.collection.delete_many()"
   ]
  },
  {
   "cell_type": "code",
   "execution_count": null,
   "id": "64ebca44",
   "metadata": {},
   "outputs": [],
   "source": []
  },
  {
   "cell_type": "code",
   "execution_count": 113,
   "id": "14209bc7",
   "metadata": {},
   "outputs": [
    {
     "data": {
      "text/plain": [
       "<pymongo.results.DeleteResult at 0x1fdaef20dc0>"
      ]
     },
     "execution_count": 113,
     "metadata": {},
     "output_type": "execute_result"
    }
   ],
   "source": [
    "db.SalesDB.delete_one({'name':\"Maki\"})"
   ]
  },
  {
   "cell_type": "code",
   "execution_count": null,
   "id": "e9a12b09",
   "metadata": {},
   "outputs": [],
   "source": []
  },
  {
   "cell_type": "code",
   "execution_count": 118,
   "id": "66b3ca3a",
   "metadata": {},
   "outputs": [
    {
     "data": {
      "text/plain": [
       "<pymongo.results.DeleteResult at 0x1fdb04cfa60>"
      ]
     },
     "execution_count": 118,
     "metadata": {},
     "output_type": "execute_result"
    }
   ],
   "source": [
    "db.SalesDB.delete_many({'species':\"Dog\"})"
   ]
  },
  {
   "cell_type": "code",
   "execution_count": null,
   "id": "30d885bf",
   "metadata": {},
   "outputs": [],
   "source": []
  },
  {
   "cell_type": "code",
   "execution_count": null,
   "id": "ae3cbd9f",
   "metadata": {},
   "outputs": [],
   "source": []
  }
 ],
 "metadata": {
  "kernelspec": {
   "display_name": "Python 3 (ipykernel)",
   "language": "python",
   "name": "python3"
  },
  "language_info": {
   "codemirror_mode": {
    "name": "ipython",
    "version": 3
   },
   "file_extension": ".py",
   "mimetype": "text/x-python",
   "name": "python",
   "nbconvert_exporter": "python",
   "pygments_lexer": "ipython3",
   "version": "3.9.12"
  }
 },
 "nbformat": 4,
 "nbformat_minor": 5
}
